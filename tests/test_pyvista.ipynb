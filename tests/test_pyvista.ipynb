{
 "cells": [
  {
   "cell_type": "code",
   "execution_count": 28,
   "metadata": {},
   "outputs": [],
   "source": [
    "import matplotlib.pyplot as plt\n",
    "import numpy as np\n",
    "import polars as pl\n",
    "import pyvista as pv\n",
    "import numpy as np"
   ]
  },
  {
   "cell_type": "code",
   "execution_count": 29,
   "metadata": {},
   "outputs": [
    {
     "data": {
      "text/html": [
       "<div><style>\n",
       ".dataframe > thead > tr,\n",
       ".dataframe > tbody > tr {\n",
       "  text-align: right;\n",
       "  white-space: pre-wrap;\n",
       "}\n",
       "</style>\n",
       "<small>shape: (5, 8)</small><table border=\"1\" class=\"dataframe\"><thead><tr><th>eta1</th><th>eta2</th><th>x1</th><th>x2</th><th>N1</th><th>N2</th><th>N3</th><th>N4</th></tr><tr><td>f64</td><td>f64</td><td>f64</td><td>f64</td><td>f64</td><td>f64</td><td>f64</td><td>f64</td></tr></thead><tbody><tr><td>-1.0</td><td>-1.0</td><td>-2.0</td><td>0.0</td><td>1.0</td><td>0.0</td><td>0.0</td><td>0.0</td></tr><tr><td>-1.0</td><td>-0.959184</td><td>-1.979592</td><td>0.020408</td><td>0.979592</td><td>0.0</td><td>0.0</td><td>0.020408</td></tr><tr><td>-1.0</td><td>-0.918367</td><td>-1.959184</td><td>0.040816</td><td>0.959184</td><td>0.0</td><td>0.0</td><td>0.040816</td></tr><tr><td>-1.0</td><td>-0.877551</td><td>-1.938776</td><td>0.061224</td><td>0.938776</td><td>0.0</td><td>0.0</td><td>0.061224</td></tr><tr><td>-1.0</td><td>-0.836735</td><td>-1.918367</td><td>0.081633</td><td>0.918367</td><td>0.0</td><td>0.0</td><td>0.081633</td></tr></tbody></table></div>"
      ],
      "text/plain": [
       "shape: (5, 8)\n",
       "┌──────┬───────────┬───────────┬──────────┬──────────┬─────┬─────┬──────────┐\n",
       "│ eta1 ┆ eta2      ┆ x1        ┆ x2       ┆ N1       ┆ N2  ┆ N3  ┆ N4       │\n",
       "│ ---  ┆ ---       ┆ ---       ┆ ---      ┆ ---      ┆ --- ┆ --- ┆ ---      │\n",
       "│ f64  ┆ f64       ┆ f64       ┆ f64      ┆ f64      ┆ f64 ┆ f64 ┆ f64      │\n",
       "╞══════╪═══════════╪═══════════╪══════════╪══════════╪═════╪═════╪══════════╡\n",
       "│ -1.0 ┆ -1.0      ┆ -2.0      ┆ 0.0      ┆ 1.0      ┆ 0.0 ┆ 0.0 ┆ 0.0      │\n",
       "│ -1.0 ┆ -0.959184 ┆ -1.979592 ┆ 0.020408 ┆ 0.979592 ┆ 0.0 ┆ 0.0 ┆ 0.020408 │\n",
       "│ -1.0 ┆ -0.918367 ┆ -1.959184 ┆ 0.040816 ┆ 0.959184 ┆ 0.0 ┆ 0.0 ┆ 0.040816 │\n",
       "│ -1.0 ┆ -0.877551 ┆ -1.938776 ┆ 0.061224 ┆ 0.938776 ┆ 0.0 ┆ 0.0 ┆ 0.061224 │\n",
       "│ -1.0 ┆ -0.836735 ┆ -1.918367 ┆ 0.081633 ┆ 0.918367 ┆ 0.0 ┆ 0.0 ┆ 0.081633 │\n",
       "└──────┴───────────┴───────────┴──────────┴──────────┴─────┴─────┴──────────┘"
      ]
     },
     "execution_count": 29,
     "metadata": {},
     "output_type": "execute_result"
    }
   ],
   "source": [
    "df = pl.read_csv('N.out')\n",
    "df.head()"
   ]
  },
  {
   "cell_type": "code",
   "execution_count": 30,
   "metadata": {},
   "outputs": [],
   "source": [
    "global_coords = df.select(pl.col('eta1', 'eta2')).to_numpy()\n",
    "global_coords = np.hstack([global_coords, np.zeros((global_coords.shape[0], 1))]) # Convert to pseudo-3D\n",
    "test_elem = pv.PolyData(global_coords) # Create points on test element\n",
    "test_elem.point_data['N1'] = df.select(pl.col('N1')).to_numpy()\n",
    "test_elem.point_data['N2'] = df.select(pl.col('N2')).to_numpy()"
   ]
  },
  {
   "cell_type": "code",
   "execution_count": 31,
   "metadata": {},
   "outputs": [
    {
     "data": {
      "application/vnd.jupyter.widget-view+json": {
       "model_id": "7fcb806544dd4deab05953649da01607",
       "version_major": 2,
       "version_minor": 0
      },
      "text/plain": [
       "Widget(value='<iframe src=\"http://localhost:63588/index.html?ui=P_0x18e0b325e20_4&reconnect=auto\" class=\"pyvis…"
      ]
     },
     "metadata": {},
     "output_type": "display_data"
    }
   ],
   "source": [
    "plotter = pv.Plotter()\n",
    "plotter.enable_2d_style()\n",
    "plotter.add_mesh(test_elem, scalars='N2')\n",
    "plotter.view_xy()\n",
    "plotter.show()"
   ]
  },
  {
   "cell_type": "code",
   "execution_count": 32,
   "metadata": {},
   "outputs": [],
   "source": [
    "df = pl.read_csv('k.out', has_header=False)"
   ]
  },
  {
   "cell_type": "code",
   "execution_count": 33,
   "metadata": {},
   "outputs": [
    {
     "data": {
      "text/plain": [
       "<matplotlib.image.AxesImage at 0x18e1d5cb4d0>"
      ]
     },
     "execution_count": 33,
     "metadata": {},
     "output_type": "execute_result"
    },
    {
     "data": {
      "image/png": "[encoded data removed]",
      "text/plain": [
       "<Figure size 640x480 with 1 Axes>"
      ]
     },
     "metadata": {},
     "output_type": "display_data"
    }
   ],
   "source": [
    "fig, ax = plt.subplots()\n",
    "ax.imshow(df.to_numpy())"
   ]
  },
  {
   "cell_type": "code",
   "execution_count": null,
   "metadata": {},
   "outputs": [],
   "source": []
  }
 ],
 "metadata": {
  "kernelspec": {
   "display_name": "comet",
   "language": "python",
   "name": "python3"
  },
  "language_info": {
   "codemirror_mode": {
    "name": "ipython",
    "version": 3
   },
   "file_extension": ".py",
   "mimetype": "text/x-python",
   "name": "python",
   "nbconvert_exporter": "python",
   "pygments_lexer": "ipython3",
   "version": "3.12.9"
  }
 },
 "nbformat": 4,
 "nbformat_minor": 2
}
