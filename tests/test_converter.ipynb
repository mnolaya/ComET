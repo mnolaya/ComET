{
 "cells": [
  {
   "cell_type": "code",
   "execution_count": 1,
   "id": "29c75287",
   "metadata": {},
   "outputs": [],
   "source": [
    "import pathlib\n",
    "\n",
    "from comet import mesh_converters"
   ]
  },
  {
   "cell_type": "code",
   "execution_count": 2,
   "id": "788856e2",
   "metadata": {},
   "outputs": [],
   "source": [
    "TEST_MESH = pathlib.Path('ex_2fib.inp')"
   ]
  },
  {
   "cell_type": "code",
   "execution_count": null,
   "id": "2916efa1",
   "metadata": {},
   "outputs": [],
   "source": []
  },
  {
   "cell_type": "code",
   "execution_count": null,
   "id": "f2aa7138",
   "metadata": {},
   "outputs": [],
   "source": []
  },
  {
   "cell_type": "code",
   "execution_count": 3,
   "id": "a43bf46a",
   "metadata": {},
   "outputs": [],
   "source": [
    "converter = mesh_converters.AbaqusConverter(TEST_MESH)"
   ]
  },
  {
   "cell_type": "code",
   "execution_count": 4,
   "id": "e99173c9",
   "metadata": {},
   "outputs": [],
   "source": [
    "converter.read_sets()\n",
    "# converter.read_nodes()\n",
    "# converter.read_connectivity()"
   ]
  },
  {
   "cell_type": "code",
   "execution_count": null,
   "id": "121a576b",
   "metadata": {},
   "outputs": [],
   "source": []
  },
  {
   "cell_type": "code",
   "execution_count": 5,
   "id": "807cdc68",
   "metadata": {},
   "outputs": [
    {
     "ename": "TypeError",
     "evalue": "AbaqusConverter.to_vtk() missing 1 required positional argument: 'output_path'",
     "output_type": "error",
     "traceback": [
      "\u001b[31m---------------------------------------------------------------------------\u001b[39m",
      "\u001b[31mTypeError\u001b[39m                                 Traceback (most recent call last)",
      "\u001b[36mCell\u001b[39m\u001b[36m \u001b[39m\u001b[32mIn[5]\u001b[39m\u001b[32m, line 1\u001b[39m\n\u001b[32m----> \u001b[39m\u001b[32m1\u001b[39m vtk_lines = \u001b[43mconverter\u001b[49m\u001b[43m.\u001b[49m\u001b[43mto_vtk\u001b[49m\u001b[43m(\u001b[49m\u001b[43m)\u001b[49m\n",
      "\u001b[31mTypeError\u001b[39m: AbaqusConverter.to_vtk() missing 1 required positional argument: 'output_path'"
     ]
    }
   ],
   "source": [
    "vtk_lines = converter.to_vtk()\n"
   ]
  },
  {
   "cell_type": "code",
   "execution_count": null,
   "id": "0cc02f4a",
   "metadata": {},
   "outputs": [],
   "source": [
    "with open('ex_2fib.vtu', 'w+') as f:\n",
    "    f.write('\\n'.join(vtk_lines))"
   ]
  },
  {
   "cell_type": "code",
   "execution_count": null,
   "id": "9cd6f5a8",
   "metadata": {},
   "outputs": [],
   "source": []
  }
 ],
 "metadata": {
  "kernelspec": {
   "display_name": "comet",
   "language": "python",
   "name": "python3"
  },
  "language_info": {
   "codemirror_mode": {
    "name": "ipython",
    "version": 3
   },
   "file_extension": ".py",
   "mimetype": "text/x-python",
   "name": "python",
   "nbconvert_exporter": "python",
   "pygments_lexer": "ipython3",
   "version": "3.12.9"
  }
 },
 "nbformat": 4,
 "nbformat_minor": 5
}
