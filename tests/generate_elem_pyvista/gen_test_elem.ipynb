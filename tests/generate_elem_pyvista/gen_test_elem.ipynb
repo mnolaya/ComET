{
 "cells": [
  {
   "cell_type": "code",
   "execution_count": null,
   "metadata": {},
   "outputs": [],
   "source": [
    "# must have this here as our global backend may not be static\n",
    "import pyvista\n",
    "pyvista.set_plot_theme('document')\n",
    "pyvista.set_jupyter_backend('static')\n",
    "pyvista.global_theme.window_size = [600, 400]\n",
    "pyvista.global_theme.axes.show = False\n",
    "pyvista.global_theme.anti_aliasing = 'fxaa'\n",
    "pyvista.global_theme.show_scalar_bar = False"
   ]
  },
  {
   "cell_type": "code",
   "execution_count": 1,
   "metadata": {},
   "outputs": [
    {
     "ename": "",
     "evalue": "",
     "output_type": "error",
     "traceback": [
      "\u001b[1;31mThe Kernel crashed while executing code in the current cell or a previous cell. \n",
      "\u001b[1;31mPlease review the code in the cell(s) to identify a possible cause of the failure. \n",
      "\u001b[1;31mClick <a href='https://aka.ms/vscodeJupyterKernelCrash'>here</a> for more info. \n",
      "\u001b[1;31mView Jupyter <a href='command:jupyter.viewOutput'>log</a> for further details."
     ]
    }
   ],
   "source": [
    "import pyvista as pv\n",
    "from pyvista import examples\n",
    "\n",
    "mesh = examples.load_hexbeam()\n",
    "cpos = [(6.20, 3.00, 7.50),\n",
    "        (0.16, 0.13, 2.65),\n",
    "        (-0.28, 0.94, -0.21)]\n",
    "\n",
    "pl = pv.Plotter()\n",
    "pl.add_mesh(mesh, show_edges=True, color='white')\n",
    "pl.add_points(mesh.points, color='red',\n",
    "              point_size=20)\n",
    "pl.camera_position = cpos\n",
    "pl.show()"
   ]
  },
  {
   "cell_type": "code",
   "execution_count": null,
   "metadata": {},
   "outputs": [],
   "source": []
  }
 ],
 "metadata": {
  "kernelspec": {
   "display_name": "vtk_env",
   "language": "python",
   "name": "python3"
  },
  "language_info": {
   "codemirror_mode": {
    "name": "ipython",
    "version": 3
   },
   "file_extension": ".py",
   "mimetype": "text/x-python",
   "name": "python",
   "nbconvert_exporter": "python",
   "pygments_lexer": "ipython3",
   "version": "3.9.21"
  }
 },
 "nbformat": 4,
 "nbformat_minor": 2
}
